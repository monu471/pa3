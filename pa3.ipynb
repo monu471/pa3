{
 "cells": [
  {
   "cell_type": "markdown",
   "id": "a82dc314",
   "metadata": {},
   "source": [
    "#### 1. What is the concept of an abstract superclass?\n",
    "\n",
    "\n",
    "The main purpose of an abstract superclass is to provide a common interface for the subclasses. It defines the methods that the subclasses should implement, but does not provide an implementation for them. This allows the subclasses to share a common interface, but to provide their own implementation of the methods\n",
    "abstract classes are defined using the abc (abstract base classes) module and decorated with @abstractmethod."
   ]
  },
  {
   "cell_type": "markdown",
   "id": "32fde671",
   "metadata": {},
   "source": [
    "### 2. What happens when a class statement top level contains a basic assignment statement?\n",
    "\n",
    "When a class statement's top level contains a basic assignment statement, the assignment statement creates a class-level variable with the specified name and assigns the specified value to it. This variable is available for use within the class and its methods."
   ]
  },
  {
   "cell_type": "markdown",
   "id": "bdff970e",
   "metadata": {},
   "source": [
    "### 3. Why does a class need to manually call a superclass __init__ method?\n",
    "\n",
    "A class needs to manually call a superclass's init method because when a subclass is instantiated, the subclass's init method is executed, but the superclass's init method is not automatically called. If the superclass's init method sets up important state for the class, that state will not be initialized if the subclass does not explicitly call the superclass's init method.\n",
    "\n",
    "By calling the superclass's init method, the subclass is able to initialize the superclass's state and any additional state the subclass needs to set up."
   ]
  },
  {
   "cell_type": "markdown",
   "id": "b48838aa",
   "metadata": {},
   "source": [
    "### 4. How can you augment, instead of completely replacing, an inherited method?\n",
    "\n",
    "To augment, instead of completely replacing, an inherited method, you can use the super() function to call the inherited method, and then add additional functionality after it. This way the inherited method's functionality is preserved, while additional functionality is added."
   ]
  },
  {
   "cell_type": "markdown",
   "id": "c210d87a",
   "metadata": {},
   "source": [
    "### 5. How is the local scope of a class different from that of a function?\n",
    "\n",
    "\n",
    "A class creates a new namespace, whereas a function uses the namespace in which it is defined.\n",
    "\n",
    "Variables defined within a class are typically associated with instances of that class, whereas variables defined within a function are typically associated with the function itself.\n",
    "\n",
    "Variables defined within a class are typically accessible within the class's methods, whereas variables defined within a function are typically only accessible within the function itself.\n",
    "\n",
    "Variables defined within a class are typically not accessible outside of the class, whereas variables defined within a function are typically accessible outside of the function.\n",
    "\n",
    "Variables defined within a class are typically accessible to all instances of that class, whereas variables defined within a function are typically specific to a single invocation of that function.\n",
    "\n",
    "A class also has a concept of \"class variables\" which are shared across all instances of that class, whereas a function does not have this concept.\n",
    "\n",
    "In summary, a class creates a new namespace for its methods and variables, and the scope of the variables defined within a class is typically limited to the class and its methods, whereas a function uses the namespace in which it is defined and the scope of the variables defined within a function is typically limited to the function itself.\n",
    "\n",
    "\n"
   ]
  },
  {
   "cell_type": "code",
   "execution_count": null,
   "id": "4995d0e7",
   "metadata": {},
   "outputs": [],
   "source": []
  }
 ],
 "metadata": {
  "kernelspec": {
   "display_name": "Python 3 (ipykernel)",
   "language": "python",
   "name": "python3"
  },
  "language_info": {
   "codemirror_mode": {
    "name": "ipython",
    "version": 3
   },
   "file_extension": ".py",
   "mimetype": "text/x-python",
   "name": "python",
   "nbconvert_exporter": "python",
   "pygments_lexer": "ipython3",
   "version": "3.9.12"
  }
 },
 "nbformat": 4,
 "nbformat_minor": 5
}
